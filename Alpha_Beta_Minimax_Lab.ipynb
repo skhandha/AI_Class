{
  "nbformat": 4,
  "nbformat_minor": 0,
  "metadata": {
    "kernelspec": {
      "display_name": "Python 3",
      "language": "python",
      "name": "python3"
    },
    "language_info": {
      "codemirror_mode": {
        "name": "ipython",
        "version": 3
      },
      "file_extension": ".py",
      "mimetype": "text/x-python",
      "name": "python",
      "nbconvert_exporter": "python",
      "pygments_lexer": "ipython3",
      "version": "3.6.8"
    },
    "colab": {
      "provenance": []
    },
    "widgets": {
      "application/vnd.jupyter.widget-state+json": {
        "d6c2099e424146429a34a83fb773e591": {
          "model_module": "@jupyter-widgets/controls",
          "model_name": "HBoxModel",
          "state": {
            "_view_name": "HBoxView",
            "_dom_classes": [],
            "_model_name": "HBoxModel",
            "_view_module": "@jupyter-widgets/controls",
            "_model_module_version": "1.5.0",
            "_view_count": null,
            "_view_module_version": "1.5.0",
            "box_style": "",
            "layout": "IPY_MODEL_1b205e6f4da7413dabbc04ca11458728",
            "_model_module": "@jupyter-widgets/controls",
            "children": [
              "IPY_MODEL_dc3f5b64ad874cdbb8a51170d45fc235",
              "IPY_MODEL_9c7c5b21945b4fe596e27e24e3cd0ba7"
            ]
          },
          "model_module_version": "1.5.0"
        },
        "1b205e6f4da7413dabbc04ca11458728": {
          "model_module": "@jupyter-widgets/base",
          "model_name": "LayoutModel",
          "state": {
            "_view_name": "LayoutView",
            "grid_template_rows": null,
            "right": null,
            "justify_content": null,
            "_view_module": "@jupyter-widgets/base",
            "overflow": null,
            "_model_module_version": "1.2.0",
            "_view_count": null,
            "flex_flow": null,
            "width": null,
            "min_width": null,
            "border": null,
            "align_items": null,
            "bottom": null,
            "_model_module": "@jupyter-widgets/base",
            "top": null,
            "grid_column": null,
            "overflow_y": null,
            "overflow_x": null,
            "grid_auto_flow": null,
            "grid_area": null,
            "grid_template_columns": null,
            "flex": null,
            "_model_name": "LayoutModel",
            "justify_items": null,
            "grid_row": null,
            "max_height": null,
            "align_content": null,
            "visibility": null,
            "align_self": null,
            "height": null,
            "min_height": null,
            "padding": null,
            "grid_auto_rows": null,
            "grid_gap": null,
            "max_width": null,
            "order": null,
            "_view_module_version": "1.2.0",
            "grid_template_areas": null,
            "object_position": null,
            "object_fit": null,
            "grid_auto_columns": null,
            "margin": null,
            "display": null,
            "left": null
          },
          "model_module_version": "1.2.0"
        },
        "dc3f5b64ad874cdbb8a51170d45fc235": {
          "model_module": "@jupyter-widgets/controls",
          "model_name": "FloatProgressModel",
          "state": {
            "_view_name": "ProgressView",
            "style": "IPY_MODEL_96d2d47cf6b44f91838546d25399b60d",
            "_dom_classes": [],
            "description": "100%",
            "_model_name": "FloatProgressModel",
            "bar_style": "success",
            "max": 5,
            "_view_module": "@jupyter-widgets/controls",
            "_model_module_version": "1.5.0",
            "value": 5,
            "_view_count": null,
            "_view_module_version": "1.5.0",
            "orientation": "horizontal",
            "min": 0,
            "description_tooltip": null,
            "_model_module": "@jupyter-widgets/controls",
            "layout": "IPY_MODEL_876db900576743a6b5da100bb64bf51d"
          },
          "model_module_version": "1.5.0"
        },
        "9c7c5b21945b4fe596e27e24e3cd0ba7": {
          "model_module": "@jupyter-widgets/controls",
          "model_name": "HTMLModel",
          "state": {
            "_view_name": "HTMLView",
            "style": "IPY_MODEL_ccc13851da674c5180b69f173d427cb5",
            "_dom_classes": [],
            "description": "",
            "_model_name": "HTMLModel",
            "placeholder": "​",
            "_view_module": "@jupyter-widgets/controls",
            "_model_module_version": "1.5.0",
            "value": " 5/5 [00:04&lt;00:00,  1.03it/s]",
            "_view_count": null,
            "_view_module_version": "1.5.0",
            "description_tooltip": null,
            "_model_module": "@jupyter-widgets/controls",
            "layout": "IPY_MODEL_d7aa83ac65c846c39fd5ef4c5a3c307b"
          },
          "model_module_version": "1.5.0"
        },
        "96d2d47cf6b44f91838546d25399b60d": {
          "model_module": "@jupyter-widgets/controls",
          "model_name": "ProgressStyleModel",
          "state": {
            "_view_name": "StyleView",
            "_model_name": "ProgressStyleModel",
            "description_width": "initial",
            "_view_module": "@jupyter-widgets/base",
            "_model_module_version": "1.5.0",
            "_view_count": null,
            "_view_module_version": "1.2.0",
            "bar_color": null,
            "_model_module": "@jupyter-widgets/controls"
          },
          "model_module_version": "1.5.0"
        },
        "876db900576743a6b5da100bb64bf51d": {
          "model_module": "@jupyter-widgets/base",
          "model_name": "LayoutModel",
          "state": {
            "_view_name": "LayoutView",
            "grid_template_rows": null,
            "right": null,
            "justify_content": null,
            "_view_module": "@jupyter-widgets/base",
            "overflow": null,
            "_model_module_version": "1.2.0",
            "_view_count": null,
            "flex_flow": null,
            "width": null,
            "min_width": null,
            "border": null,
            "align_items": null,
            "bottom": null,
            "_model_module": "@jupyter-widgets/base",
            "top": null,
            "grid_column": null,
            "overflow_y": null,
            "overflow_x": null,
            "grid_auto_flow": null,
            "grid_area": null,
            "grid_template_columns": null,
            "flex": null,
            "_model_name": "LayoutModel",
            "justify_items": null,
            "grid_row": null,
            "max_height": null,
            "align_content": null,
            "visibility": null,
            "align_self": null,
            "height": null,
            "min_height": null,
            "padding": null,
            "grid_auto_rows": null,
            "grid_gap": null,
            "max_width": null,
            "order": null,
            "_view_module_version": "1.2.0",
            "grid_template_areas": null,
            "object_position": null,
            "object_fit": null,
            "grid_auto_columns": null,
            "margin": null,
            "display": null,
            "left": null
          },
          "model_module_version": "1.2.0"
        },
        "ccc13851da674c5180b69f173d427cb5": {
          "model_module": "@jupyter-widgets/controls",
          "model_name": "DescriptionStyleModel",
          "state": {
            "_view_name": "StyleView",
            "_model_name": "DescriptionStyleModel",
            "description_width": "",
            "_view_module": "@jupyter-widgets/base",
            "_model_module_version": "1.5.0",
            "_view_count": null,
            "_view_module_version": "1.2.0",
            "_model_module": "@jupyter-widgets/controls"
          },
          "model_module_version": "1.5.0"
        },
        "d7aa83ac65c846c39fd5ef4c5a3c307b": {
          "model_module": "@jupyter-widgets/base",
          "model_name": "LayoutModel",
          "state": {
            "_view_name": "LayoutView",
            "grid_template_rows": null,
            "right": null,
            "justify_content": null,
            "_view_module": "@jupyter-widgets/base",
            "overflow": null,
            "_model_module_version": "1.2.0",
            "_view_count": null,
            "flex_flow": null,
            "width": null,
            "min_width": null,
            "border": null,
            "align_items": null,
            "bottom": null,
            "_model_module": "@jupyter-widgets/base",
            "top": null,
            "grid_column": null,
            "overflow_y": null,
            "overflow_x": null,
            "grid_auto_flow": null,
            "grid_area": null,
            "grid_template_columns": null,
            "flex": null,
            "_model_name": "LayoutModel",
            "justify_items": null,
            "grid_row": null,
            "max_height": null,
            "align_content": null,
            "visibility": null,
            "align_self": null,
            "height": null,
            "min_height": null,
            "padding": null,
            "grid_auto_rows": null,
            "grid_gap": null,
            "max_width": null,
            "order": null,
            "_view_module_version": "1.2.0",
            "grid_template_areas": null,
            "object_position": null,
            "object_fit": null,
            "grid_auto_columns": null,
            "margin": null,
            "display": null,
            "left": null
          },
          "model_module_version": "1.2.0"
        },
        "8d4e52d758db4ae5bb200507d9a326e0": {
          "model_module": "@jupyter-widgets/controls",
          "model_name": "HBoxModel",
          "state": {
            "_view_name": "HBoxView",
            "_dom_classes": [],
            "_model_name": "HBoxModel",
            "_view_module": "@jupyter-widgets/controls",
            "_model_module_version": "1.5.0",
            "_view_count": null,
            "_view_module_version": "1.5.0",
            "box_style": "",
            "layout": "IPY_MODEL_3ad7146d7f3b4ae5b80abc39413b7200",
            "_model_module": "@jupyter-widgets/controls",
            "children": [
              "IPY_MODEL_344a04e9f55c445abaca452f30782d5d",
              "IPY_MODEL_0fd40fa718594d4da4883921b86c3075"
            ]
          },
          "model_module_version": "1.5.0"
        },
        "3ad7146d7f3b4ae5b80abc39413b7200": {
          "model_module": "@jupyter-widgets/base",
          "model_name": "LayoutModel",
          "state": {
            "_view_name": "LayoutView",
            "grid_template_rows": null,
            "right": null,
            "justify_content": null,
            "_view_module": "@jupyter-widgets/base",
            "overflow": null,
            "_model_module_version": "1.2.0",
            "_view_count": null,
            "flex_flow": null,
            "width": null,
            "min_width": null,
            "border": null,
            "align_items": null,
            "bottom": null,
            "_model_module": "@jupyter-widgets/base",
            "top": null,
            "grid_column": null,
            "overflow_y": null,
            "overflow_x": null,
            "grid_auto_flow": null,
            "grid_area": null,
            "grid_template_columns": null,
            "flex": null,
            "_model_name": "LayoutModel",
            "justify_items": null,
            "grid_row": null,
            "max_height": null,
            "align_content": null,
            "visibility": null,
            "align_self": null,
            "height": null,
            "min_height": null,
            "padding": null,
            "grid_auto_rows": null,
            "grid_gap": null,
            "max_width": null,
            "order": null,
            "_view_module_version": "1.2.0",
            "grid_template_areas": null,
            "object_position": null,
            "object_fit": null,
            "grid_auto_columns": null,
            "margin": null,
            "display": null,
            "left": null
          },
          "model_module_version": "1.2.0"
        },
        "344a04e9f55c445abaca452f30782d5d": {
          "model_module": "@jupyter-widgets/controls",
          "model_name": "FloatProgressModel",
          "state": {
            "_view_name": "ProgressView",
            "style": "IPY_MODEL_dc4bbb39077540c890edd3e402da9ddd",
            "_dom_classes": [],
            "description": "100%",
            "_model_name": "FloatProgressModel",
            "bar_style": "success",
            "max": 9,
            "_view_module": "@jupyter-widgets/controls",
            "_model_module_version": "1.5.0",
            "value": 9,
            "_view_count": null,
            "_view_module_version": "1.5.0",
            "orientation": "horizontal",
            "min": 0,
            "description_tooltip": null,
            "_model_module": "@jupyter-widgets/controls",
            "layout": "IPY_MODEL_17bd4fdb1dad411f813b2cf578a41475"
          },
          "model_module_version": "1.5.0"
        },
        "0fd40fa718594d4da4883921b86c3075": {
          "model_module": "@jupyter-widgets/controls",
          "model_name": "HTMLModel",
          "state": {
            "_view_name": "HTMLView",
            "style": "IPY_MODEL_e95c61e201454d9d88b18627cc6f46d4",
            "_dom_classes": [],
            "description": "",
            "_model_name": "HTMLModel",
            "placeholder": "​",
            "_view_module": "@jupyter-widgets/controls",
            "_model_module_version": "1.5.0",
            "value": " 9/9 [00:02&lt;00:00,  3.46it/s]",
            "_view_count": null,
            "_view_module_version": "1.5.0",
            "description_tooltip": null,
            "_model_module": "@jupyter-widgets/controls",
            "layout": "IPY_MODEL_cd373100d3404326b0d02c363e437291"
          },
          "model_module_version": "1.5.0"
        },
        "dc4bbb39077540c890edd3e402da9ddd": {
          "model_module": "@jupyter-widgets/controls",
          "model_name": "ProgressStyleModel",
          "state": {
            "_view_name": "StyleView",
            "_model_name": "ProgressStyleModel",
            "description_width": "initial",
            "_view_module": "@jupyter-widgets/base",
            "_model_module_version": "1.5.0",
            "_view_count": null,
            "_view_module_version": "1.2.0",
            "bar_color": null,
            "_model_module": "@jupyter-widgets/controls"
          },
          "model_module_version": "1.5.0"
        },
        "17bd4fdb1dad411f813b2cf578a41475": {
          "model_module": "@jupyter-widgets/base",
          "model_name": "LayoutModel",
          "state": {
            "_view_name": "LayoutView",
            "grid_template_rows": null,
            "right": null,
            "justify_content": null,
            "_view_module": "@jupyter-widgets/base",
            "overflow": null,
            "_model_module_version": "1.2.0",
            "_view_count": null,
            "flex_flow": null,
            "width": null,
            "min_width": null,
            "border": null,
            "align_items": null,
            "bottom": null,
            "_model_module": "@jupyter-widgets/base",
            "top": null,
            "grid_column": null,
            "overflow_y": null,
            "overflow_x": null,
            "grid_auto_flow": null,
            "grid_area": null,
            "grid_template_columns": null,
            "flex": null,
            "_model_name": "LayoutModel",
            "justify_items": null,
            "grid_row": null,
            "max_height": null,
            "align_content": null,
            "visibility": null,
            "align_self": null,
            "height": null,
            "min_height": null,
            "padding": null,
            "grid_auto_rows": null,
            "grid_gap": null,
            "max_width": null,
            "order": null,
            "_view_module_version": "1.2.0",
            "grid_template_areas": null,
            "object_position": null,
            "object_fit": null,
            "grid_auto_columns": null,
            "margin": null,
            "display": null,
            "left": null
          },
          "model_module_version": "1.2.0"
        },
        "e95c61e201454d9d88b18627cc6f46d4": {
          "model_module": "@jupyter-widgets/controls",
          "model_name": "DescriptionStyleModel",
          "state": {
            "_view_name": "StyleView",
            "_model_name": "DescriptionStyleModel",
            "description_width": "",
            "_view_module": "@jupyter-widgets/base",
            "_model_module_version": "1.5.0",
            "_view_count": null,
            "_view_module_version": "1.2.0",
            "_model_module": "@jupyter-widgets/controls"
          },
          "model_module_version": "1.5.0"
        },
        "cd373100d3404326b0d02c363e437291": {
          "model_module": "@jupyter-widgets/base",
          "model_name": "LayoutModel",
          "state": {
            "_view_name": "LayoutView",
            "grid_template_rows": null,
            "right": null,
            "justify_content": null,
            "_view_module": "@jupyter-widgets/base",
            "overflow": null,
            "_model_module_version": "1.2.0",
            "_view_count": null,
            "flex_flow": null,
            "width": null,
            "min_width": null,
            "border": null,
            "align_items": null,
            "bottom": null,
            "_model_module": "@jupyter-widgets/base",
            "top": null,
            "grid_column": null,
            "overflow_y": null,
            "overflow_x": null,
            "grid_auto_flow": null,
            "grid_area": null,
            "grid_template_columns": null,
            "flex": null,
            "_model_name": "LayoutModel",
            "justify_items": null,
            "grid_row": null,
            "max_height": null,
            "align_content": null,
            "visibility": null,
            "align_self": null,
            "height": null,
            "min_height": null,
            "padding": null,
            "grid_auto_rows": null,
            "grid_gap": null,
            "max_width": null,
            "order": null,
            "_view_module_version": "1.2.0",
            "grid_template_areas": null,
            "object_position": null,
            "object_fit": null,
            "grid_auto_columns": null,
            "margin": null,
            "display": null,
            "left": null
          },
          "model_module_version": "1.2.0"
        },
        "7a0ec3da086945888760b9343f332701": {
          "model_module": "@jupyter-widgets/controls",
          "model_name": "HBoxModel",
          "state": {
            "_view_name": "HBoxView",
            "_dom_classes": [],
            "_model_name": "HBoxModel",
            "_view_module": "@jupyter-widgets/controls",
            "_model_module_version": "1.5.0",
            "_view_count": null,
            "_view_module_version": "1.5.0",
            "box_style": "",
            "layout": "IPY_MODEL_666df30e266b4f5e8a71bae499cde545",
            "_model_module": "@jupyter-widgets/controls",
            "children": [
              "IPY_MODEL_a07fffc5af2d4e58ae61bba6f3f984a1",
              "IPY_MODEL_efedb7f98b5f48708c30e7db3cef509e"
            ]
          },
          "model_module_version": "1.5.0"
        },
        "666df30e266b4f5e8a71bae499cde545": {
          "model_module": "@jupyter-widgets/base",
          "model_name": "LayoutModel",
          "state": {
            "_view_name": "LayoutView",
            "grid_template_rows": null,
            "right": null,
            "justify_content": null,
            "_view_module": "@jupyter-widgets/base",
            "overflow": null,
            "_model_module_version": "1.2.0",
            "_view_count": null,
            "flex_flow": null,
            "width": null,
            "min_width": null,
            "border": null,
            "align_items": null,
            "bottom": null,
            "_model_module": "@jupyter-widgets/base",
            "top": null,
            "grid_column": null,
            "overflow_y": null,
            "overflow_x": null,
            "grid_auto_flow": null,
            "grid_area": null,
            "grid_template_columns": null,
            "flex": null,
            "_model_name": "LayoutModel",
            "justify_items": null,
            "grid_row": null,
            "max_height": null,
            "align_content": null,
            "visibility": null,
            "align_self": null,
            "height": null,
            "min_height": null,
            "padding": null,
            "grid_auto_rows": null,
            "grid_gap": null,
            "max_width": null,
            "order": null,
            "_view_module_version": "1.2.0",
            "grid_template_areas": null,
            "object_position": null,
            "object_fit": null,
            "grid_auto_columns": null,
            "margin": null,
            "display": null,
            "left": null
          },
          "model_module_version": "1.2.0"
        },
        "a07fffc5af2d4e58ae61bba6f3f984a1": {
          "model_module": "@jupyter-widgets/controls",
          "model_name": "FloatProgressModel",
          "state": {
            "_view_name": "ProgressView",
            "style": "IPY_MODEL_1b437febe571456a8edb50ab7281ad39",
            "_dom_classes": [],
            "description": "100%",
            "_model_name": "FloatProgressModel",
            "bar_style": "success",
            "max": 7,
            "_view_module": "@jupyter-widgets/controls",
            "_model_module_version": "1.5.0",
            "value": 7,
            "_view_count": null,
            "_view_module_version": "1.5.0",
            "orientation": "horizontal",
            "min": 0,
            "description_tooltip": null,
            "_model_module": "@jupyter-widgets/controls",
            "layout": "IPY_MODEL_177eb02472a14f7f946fe8fc1627950d"
          },
          "model_module_version": "1.5.0"
        },
        "efedb7f98b5f48708c30e7db3cef509e": {
          "model_module": "@jupyter-widgets/controls",
          "model_name": "HTMLModel",
          "state": {
            "_view_name": "HTMLView",
            "style": "IPY_MODEL_373962da8f8d4067a40934bf79f6b2a1",
            "_dom_classes": [],
            "description": "",
            "_model_name": "HTMLModel",
            "placeholder": "​",
            "_view_module": "@jupyter-widgets/controls",
            "_model_module_version": "1.5.0",
            "value": " 7/7 [00:00&lt;00:00, 293.45it/s]",
            "_view_count": null,
            "_view_module_version": "1.5.0",
            "description_tooltip": null,
            "_model_module": "@jupyter-widgets/controls",
            "layout": "IPY_MODEL_66a5ff60d73a4d8c96e3d3b04277552a"
          },
          "model_module_version": "1.5.0"
        },
        "1b437febe571456a8edb50ab7281ad39": {
          "model_module": "@jupyter-widgets/controls",
          "model_name": "ProgressStyleModel",
          "state": {
            "_view_name": "StyleView",
            "_model_name": "ProgressStyleModel",
            "description_width": "initial",
            "_view_module": "@jupyter-widgets/base",
            "_model_module_version": "1.5.0",
            "_view_count": null,
            "_view_module_version": "1.2.0",
            "bar_color": null,
            "_model_module": "@jupyter-widgets/controls"
          },
          "model_module_version": "1.5.0"
        },
        "177eb02472a14f7f946fe8fc1627950d": {
          "model_module": "@jupyter-widgets/base",
          "model_name": "LayoutModel",
          "state": {
            "_view_name": "LayoutView",
            "grid_template_rows": null,
            "right": null,
            "justify_content": null,
            "_view_module": "@jupyter-widgets/base",
            "overflow": null,
            "_model_module_version": "1.2.0",
            "_view_count": null,
            "flex_flow": null,
            "width": null,
            "min_width": null,
            "border": null,
            "align_items": null,
            "bottom": null,
            "_model_module": "@jupyter-widgets/base",
            "top": null,
            "grid_column": null,
            "overflow_y": null,
            "overflow_x": null,
            "grid_auto_flow": null,
            "grid_area": null,
            "grid_template_columns": null,
            "flex": null,
            "_model_name": "LayoutModel",
            "justify_items": null,
            "grid_row": null,
            "max_height": null,
            "align_content": null,
            "visibility": null,
            "align_self": null,
            "height": null,
            "min_height": null,
            "padding": null,
            "grid_auto_rows": null,
            "grid_gap": null,
            "max_width": null,
            "order": null,
            "_view_module_version": "1.2.0",
            "grid_template_areas": null,
            "object_position": null,
            "object_fit": null,
            "grid_auto_columns": null,
            "margin": null,
            "display": null,
            "left": null
          },
          "model_module_version": "1.2.0"
        },
        "373962da8f8d4067a40934bf79f6b2a1": {
          "model_module": "@jupyter-widgets/controls",
          "model_name": "DescriptionStyleModel",
          "state": {
            "_view_name": "StyleView",
            "_model_name": "DescriptionStyleModel",
            "description_width": "",
            "_view_module": "@jupyter-widgets/base",
            "_model_module_version": "1.5.0",
            "_view_count": null,
            "_view_module_version": "1.2.0",
            "_model_module": "@jupyter-widgets/controls"
          },
          "model_module_version": "1.5.0"
        },
        "66a5ff60d73a4d8c96e3d3b04277552a": {
          "model_module": "@jupyter-widgets/base",
          "model_name": "LayoutModel",
          "state": {
            "_view_name": "LayoutView",
            "grid_template_rows": null,
            "right": null,
            "justify_content": null,
            "_view_module": "@jupyter-widgets/base",
            "overflow": null,
            "_model_module_version": "1.2.0",
            "_view_count": null,
            "flex_flow": null,
            "width": null,
            "min_width": null,
            "border": null,
            "align_items": null,
            "bottom": null,
            "_model_module": "@jupyter-widgets/base",
            "top": null,
            "grid_column": null,
            "overflow_y": null,
            "overflow_x": null,
            "grid_auto_flow": null,
            "grid_area": null,
            "grid_template_columns": null,
            "flex": null,
            "_model_name": "LayoutModel",
            "justify_items": null,
            "grid_row": null,
            "max_height": null,
            "align_content": null,
            "visibility": null,
            "align_self": null,
            "height": null,
            "min_height": null,
            "padding": null,
            "grid_auto_rows": null,
            "grid_gap": null,
            "max_width": null,
            "order": null,
            "_view_module_version": "1.2.0",
            "grid_template_areas": null,
            "object_position": null,
            "object_fit": null,
            "grid_auto_columns": null,
            "margin": null,
            "display": null,
            "left": null
          },
          "model_module_version": "1.2.0"
        }
      }
    }
  },
  "cells": [
    {
      "cell_type": "markdown",
      "metadata": {
        "id": "C9xPHegd07w_"
      },
      "source": [
        "\n",
        "## Minimax with Alpha-Beta Pruning\n",
        "As seen in Lab 5, Minimax is an algorithm that makes optimal moves by minimizing the loss, assuming the other player is playing optimally. However, optimiality comes with the cost of exploring many game states, which can be costly in large search spaces. In this section you will implement Minimax with Alpah-Beta pruning for tic tac toe.\n",
        "\n",
        "\n"
      ]
    },
    {
      "cell_type": "markdown",
      "metadata": {
        "id": "tJcBnuJLn7w7"
      },
      "source": [
        "### Introduction\n",
        "Minimax will always find the solution, at the expense of exploring every game state. By using Alpha-Beta pruning, this search space is reduced. In this lab, you will implement this method for the game of tic tac toe.\n",
        "\n",
        "\n",
        "\n",
        "Observe the following tic tac toe board:"
      ]
    },
    {
      "cell_type": "code",
      "metadata": {
        "id": "gNVWzz0hc-Te",
        "outputId": "251d3150-46f8-4e2d-ddad-fa769a0d0d6c",
        "colab": {
          "base_uri": "https://localhost:8080/",
          "height": 68
        }
      },
      "source": [
        "# Lab by Morgan Swanson\n",
        "import numpy as np\n",
        "example_board = np.array([[' ', ' ', ' '],\n",
        "                          [' ', ' ', ' '],\n",
        "                          [' ', ' ', ' ']])\n",
        "print(example_board)"
      ],
      "execution_count": null,
      "outputs": [
        {
          "output_type": "stream",
          "text": [
            "[[' ' ' ' ' ']\n",
            " [' ' ' ' ' ']\n",
            " [' ' ' ' ' ']]\n"
          ],
          "name": "stdout"
        }
      ]
    },
    {
      "cell_type": "markdown",
      "metadata": {
        "id": "4lbqdeLfwv-I"
      },
      "source": [
        "***\n",
        "### Get Possible Boards\n",
        "This function generates all possible moves for the given board and player. It will place an 'O' for the maximizing player and 'X' for the minimizing player. Observe the generated boards.\n",
        "\n"
      ]
    },
    {
      "cell_type": "code",
      "metadata": {
        "id": "-2g73honwwIr",
        "outputId": "1d1ff95d-242f-407e-c21e-5f478ed42b7a",
        "colab": {
          "base_uri": "https://localhost:8080/",
          "height": 476
        }
      },
      "source": [
        "# Calculates all successor states to a given state\n",
        "def get_possible_moves(board, player):\n",
        "    moves = []\n",
        "    for (x, y), element in np.ndenumerate(board):\n",
        "        if element == ' ':\n",
        "            new_board = np.array(board, copy=True)\n",
        "            new_board[x][y] = 'X' if player is 'max' else 'O'\n",
        "            moves.append(new_board)\n",
        "    return moves\n",
        "\n",
        "example_moves = get_possible_moves(example_board, 'max')\n",
        "for b in example_moves:\n",
        "  print(b)"
      ],
      "execution_count": null,
      "outputs": [
        {
          "output_type": "stream",
          "text": [
            "[['X' ' ' ' ']\n",
            " [' ' ' ' ' ']\n",
            " [' ' ' ' ' ']]\n",
            "[[' ' 'X' ' ']\n",
            " [' ' ' ' ' ']\n",
            " [' ' ' ' ' ']]\n",
            "[[' ' ' ' 'X']\n",
            " [' ' ' ' ' ']\n",
            " [' ' ' ' ' ']]\n",
            "[[' ' ' ' ' ']\n",
            " ['X' ' ' ' ']\n",
            " [' ' ' ' ' ']]\n",
            "[[' ' ' ' ' ']\n",
            " [' ' 'X' ' ']\n",
            " [' ' ' ' ' ']]\n",
            "[[' ' ' ' ' ']\n",
            " [' ' ' ' 'X']\n",
            " [' ' ' ' ' ']]\n",
            "[[' ' ' ' ' ']\n",
            " [' ' ' ' ' ']\n",
            " ['X' ' ' ' ']]\n",
            "[[' ' ' ' ' ']\n",
            " [' ' ' ' ' ']\n",
            " [' ' 'X' ' ']]\n",
            "[[' ' ' ' ' ']\n",
            " [' ' ' ' ' ']\n",
            " [' ' ' ' 'X']]\n"
          ],
          "name": "stdout"
        }
      ]
    },
    {
      "cell_type": "markdown",
      "metadata": {
        "id": "5lr62eeQwuNc"
      },
      "source": [
        "***\n",
        "### Get Score\n",
        "This function calculates the game score to be either:\n",
        "1. Max victory - value greater than zero\n",
        "2. Min victory -value less than zero\n",
        "3. Draw - value of zero\n",
        "4. Incomplete - value of None\n",
        "\n",
        "It scales by the depth of the search in order to delay losing as long as possible and win as quickly as possible.\n"
      ]
    },
    {
      "cell_type": "code",
      "metadata": {
        "id": "AO8IVKE0c-Tp",
        "outputId": "46943b2d-5d8d-4917-9e33-866ce864351b",
        "colab": {
          "base_uri": "https://localhost:8080/",
          "height": 221
        }
      },
      "source": [
        "def get_score(board, depth=0):\n",
        "    if (np.any(np.all(board == 'X', axis=0)) or\n",
        "        np.any(np.all(board == 'X', axis=1)) or\n",
        "        np.all(board.diagonal() == 'X') or\n",
        "        np.all(np.fliplr(board).diagonal() == 'X')):\n",
        "        # Max Victory\n",
        "        return 1 * (1 / (1 + depth))\n",
        "    elif (np.any(np.all(board == 'O', axis=0)) or\n",
        "          np.any(np.all(board == 'O', axis=1)) or\n",
        "          np.all(board.diagonal() == 'O') or\n",
        "          np.all(np.fliplr(board).diagonal() == 'O')):\n",
        "        # Min Victory\n",
        "        return -1 * (1 / (1 + depth))\n",
        "    elif not (board == ' ').any():\n",
        "        # Draw\n",
        "        return 0\n",
        "    else:\n",
        "        # Unfinished Game\n",
        "        return None\n",
        "\n",
        "\n",
        "tests = np.array([[['O', 'X', ' '],\n",
        "                   ['O', 'O', 'X'],\n",
        "                   ['X', ' ', 'O']],\n",
        "                  [['X', 'O', 'O'],\n",
        "                   ['O', 'X', 'O'],\n",
        "                   [' ', ' ', 'X']],\n",
        "                  [['O', 'O', 'X'],\n",
        "                   ['X', 'X', 'O'],\n",
        "                   ['O', 'X', 'O']],\n",
        "                  [['O', 'X', ' '],\n",
        "                   ['O', 'O', 'X'],\n",
        "                   ['X', ' ', ' ']]])\n",
        "\n",
        "for test in tests:\n",
        "  print(test, get_score(test))"
      ],
      "execution_count": null,
      "outputs": [
        {
          "output_type": "stream",
          "text": [
            "[['O' 'X' ' ']\n",
            " ['O' 'O' 'X']\n",
            " ['X' ' ' 'O']] -1.0\n",
            "[['X' 'O' 'O']\n",
            " ['O' 'X' 'O']\n",
            " [' ' ' ' 'X']] 1.0\n",
            "[['O' 'O' 'X']\n",
            " ['X' 'X' 'O']\n",
            " ['O' 'X' 'O']] 0\n",
            "[['O' 'X' ' ']\n",
            " ['O' 'O' 'X']\n",
            " ['X' ' ' ' ']] None\n"
          ],
          "name": "stdout"
        }
      ]
    },
    {
      "cell_type": "markdown",
      "metadata": {
        "id": "7YDHzkjw477g"
      },
      "source": [
        "***\n",
        "### Find Value\n",
        "Your task is the implement value function, which will return the value of the board calcuated using minimax. To recieve full credit, this function must use alpha beta pruning.  A skeleton has been provided for you:\n",
        "\n",
        "\n",
        "* **board:** the tic tac toe board that must be evalutated\n",
        "* **alpha:** the current alpha parameter of the search\n",
        "* **beta:** the current beta parameter of the search\n",
        "* **player:** the current player who is acting\n",
        "* **depth:** how deep in the tree we are from the initial call\n",
        "\n",
        "\n",
        "\n",
        "\n",
        "*Hint: Use this function recursively for each node of the game tree*"
      ]
    },
    {
      "cell_type": "code",
      "metadata": {
        "id": "K1m3tOGCc-Tz"
      },
      "source": [
        "# Finds the integer expected score of a game state using minimax wiht alpha-beta\n",
        "def find_value(board, player, alpha=float('-inf'), beta=float('inf'), depth=0):\n",
        "    return 0"
      ],
      "execution_count": null,
      "outputs": []
    },
    {
      "cell_type": "markdown",
      "metadata": {
        "id": "P5Lyn9lS7fE8"
      },
      "source": [
        "***\n",
        "### Find Best Move\n",
        "We will now use our value finder in order to calculate the value of all possible moves and choose the best one.\n"
      ]
    },
    {
      "cell_type": "code",
      "metadata": {
        "id": "jM9qW-YN5XQq",
        "outputId": "08cc6477-d0c3-47ec-9ac1-2ac817d661eb",
        "colab": {
          "base_uri": "https://localhost:8080/",
          "height": 202,
          "referenced_widgets": [
            "d6c2099e424146429a34a83fb773e591",
            "1b205e6f4da7413dabbc04ca11458728",
            "dc3f5b64ad874cdbb8a51170d45fc235",
            "9c7c5b21945b4fe596e27e24e3cd0ba7",
            "96d2d47cf6b44f91838546d25399b60d",
            "876db900576743a6b5da100bb64bf51d",
            "ccc13851da674c5180b69f173d427cb5",
            "d7aa83ac65c846c39fd5ef4c5a3c307b"
          ]
        }
      },
      "source": [
        "# Finds the best move (state with highest/lowest value)\n",
        "from tqdm import tqdm_notebook as tqdm\n",
        "def find_best_move(board, player):\n",
        "    print(\"Deciding best move...\")\n",
        "    boards = get_possible_moves(board, player)\n",
        "    values = [find_value(board,\n",
        "                         ('max' if player is 'min'\n",
        "                          else 'min'))\n",
        "              for board in tqdm(boards)]\n",
        "    if None in values:\n",
        "        raise ValueError('find_value should always return an integer.')\n",
        "    if player is \"max\":\n",
        "        policy_vector = np.array([1 if value == np.amax(values) else 0\n",
        "                                  for value in values])\n",
        "    else:\n",
        "        policy_vector = np.array([1 if value == np.amin(values) else 0\n",
        "                                  for value in values])\n",
        "    # Normalize Probabilities\n",
        "    policy_vector = policy_vector / np.count_nonzero(policy_vector)\n",
        "    return boards[np.random.choice(np.arange(len(values)),\n",
        "                                   1,\n",
        "                                   p=policy_vector)[0]]\n",
        "\n",
        "test_boards = [[['X', 'O', ' '],\n",
        "                ['O', 'X', ' '],\n",
        "                [' ', ' ', ' ']]]\n",
        "print(test_boards[0])\n",
        "print(find_best_move(test_boards[0], 'max'))\n"
      ],
      "execution_count": null,
      "outputs": [
        {
          "output_type": "stream",
          "text": [
            "[['X', 'O', ' '], ['O', 'X', ' '], [' ', ' ', ' ']]\n",
            "Deciding best move...\n"
          ],
          "name": "stdout"
        },
        {
          "output_type": "stream",
          "text": [
            "/usr/local/lib/python3.6/dist-packages/ipykernel_launcher.py:9: TqdmDeprecationWarning: This function will be removed in tqdm==5.0.0\n",
            "Please use `tqdm.notebook.tqdm` instead of `tqdm.tqdm_notebook`\n",
            "  if __name__ == '__main__':\n"
          ],
          "name": "stderr"
        },
        {
          "output_type": "display_data",
          "data": {
            "application/vnd.jupyter.widget-view+json": {
              "model_id": "d6c2099e424146429a34a83fb773e591",
              "version_minor": 0,
              "version_major": 2
            },
            "text/plain": [
              "HBox(children=(FloatProgress(value=0.0, max=5.0), HTML(value='')))"
            ]
          },
          "metadata": {
            "tags": []
          }
        },
        {
          "output_type": "stream",
          "text": [
            "\n",
            "[['X' 'O' ' ']\n",
            " ['O' 'X' ' ']\n",
            " [' ' 'X' ' ']]\n"
          ],
          "name": "stdout"
        }
      ]
    },
    {
      "cell_type": "markdown",
      "metadata": {
        "id": "B-86BPLl71Sg"
      },
      "source": [
        "***\n",
        "### Testing\n",
        "In order to test our AI, we can play a few games against it:"
      ]
    },
    {
      "cell_type": "code",
      "metadata": {
        "id": "vlzNiOpP77rr",
        "outputId": "31746e56-5378-4dd1-8e57-2a0693da9f1d",
        "colab": {
          "base_uri": "https://localhost:8080/",
          "height": 353,
          "referenced_widgets": [
            "8d4e52d758db4ae5bb200507d9a326e0",
            "3ad7146d7f3b4ae5b80abc39413b7200",
            "344a04e9f55c445abaca452f30782d5d",
            "0fd40fa718594d4da4883921b86c3075",
            "dc4bbb39077540c890edd3e402da9ddd",
            "17bd4fdb1dad411f813b2cf578a41475",
            "e95c61e201454d9d88b18627cc6f46d4",
            "cd373100d3404326b0d02c363e437291",
            "7a0ec3da086945888760b9343f332701",
            "666df30e266b4f5e8a71bae499cde545",
            "a07fffc5af2d4e58ae61bba6f3f984a1",
            "efedb7f98b5f48708c30e7db3cef509e",
            "1b437febe571456a8edb50ab7281ad39",
            "177eb02472a14f7f946fe8fc1627950d",
            "373962da8f8d4067a40934bf79f6b2a1",
            "66a5ff60d73a4d8c96e3d3b04277552a"
          ]
        }
      },
      "source": [
        "def run_demo():\n",
        "  board = np.array([[' ', ' ', ' '],\n",
        "                    [' ', ' ', ' '],\n",
        "                    [' ', ' ', ' ']])\n",
        "  score = get_score(board)\n",
        "  player = \"max\"\n",
        "  while score is None:\n",
        "      if player == \"max\":\n",
        "          board = find_best_move(board, player)\n",
        "      else:\n",
        "          move_entered = False\n",
        "          while not move_entered:\n",
        "              try:\n",
        "                  move = int(input('Choose a move...')) - 1\n",
        "                  if not 0 <= move <= 8:\n",
        "                      print(\"Enter an integer between 1 and 9.\\n\")\n",
        "                      continue\n",
        "                  elif not board[move//3][move%3] == ' ':\n",
        "                      print(\"That spot is already taken.\\n\")\n",
        "                      continue\n",
        "                  else:\n",
        "                      board[move//3][move%3]= 'O'\n",
        "                      move_entered = True\n",
        "              except ValueError:\n",
        "                  print(\"Enter an integer.\\n\")\n",
        "      score = get_score(board)\n",
        "      player = \"min\" if player == \"max\" else \"max\"\n",
        "      print(board)\n",
        "  if (score == 0):\n",
        "      print(\"Draw\")\n",
        "  elif (score > 0):\n",
        "      print(\"You Lose\")\n",
        "  else:\n",
        "      print(\"You Win\")\n",
        "\n",
        "\n",
        "run_demo()"
      ],
      "execution_count": null,
      "outputs": [
        {
          "output_type": "stream",
          "text": [
            "Deciding best move...\n"
          ],
          "name": "stdout"
        },
        {
          "output_type": "stream",
          "text": [
            "/usr/local/lib/python3.6/dist-packages/ipykernel_launcher.py:9: TqdmDeprecationWarning: This function will be removed in tqdm==5.0.0\n",
            "Please use `tqdm.notebook.tqdm` instead of `tqdm.tqdm_notebook`\n",
            "  if __name__ == '__main__':\n"
          ],
          "name": "stderr"
        },
        {
          "output_type": "display_data",
          "data": {
            "application/vnd.jupyter.widget-view+json": {
              "model_id": "8d4e52d758db4ae5bb200507d9a326e0",
              "version_minor": 0,
              "version_major": 2
            },
            "text/plain": [
              "HBox(children=(FloatProgress(value=0.0, max=9.0), HTML(value='')))"
            ]
          },
          "metadata": {
            "tags": []
          }
        },
        {
          "output_type": "stream",
          "text": [
            "\n",
            "[[' ' ' ' ' ']\n",
            " [' ' ' ' ' ']\n",
            " [' ' ' ' 'X']]\n",
            "[[' ' ' ' ' ']\n",
            " [' ' 'O' ' ']\n",
            " [' ' ' ' 'X']]\n",
            "Deciding best move...\n"
          ],
          "name": "stdout"
        },
        {
          "output_type": "display_data",
          "data": {
            "application/vnd.jupyter.widget-view+json": {
              "model_id": "7a0ec3da086945888760b9343f332701",
              "version_minor": 0,
              "version_major": 2
            },
            "text/plain": [
              "HBox(children=(FloatProgress(value=0.0, max=7.0), HTML(value='')))"
            ]
          },
          "metadata": {
            "tags": []
          }
        },
        {
          "output_type": "stream",
          "text": [
            "\n",
            "[[' ' ' ' 'X']\n",
            " [' ' 'O' ' ']\n",
            " [' ' ' ' 'X']]\n"
          ],
          "name": "stdout"
        }
      ]
    },
    {
      "cell_type": "code",
      "metadata": {
        "id": "R05HIGAUxQzo"
      },
      "source": [],
      "execution_count": null,
      "outputs": []
    }
  ]
}